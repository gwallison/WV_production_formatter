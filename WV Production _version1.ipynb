{
 "cells": [
  {
   "cell_type": "markdown",
   "metadata": {},
   "source": [
    "# West Virginia Production dataset\n"
   ]
  },
  {
   "cell_type": "code",
   "execution_count": 1,
   "metadata": {},
   "outputs": [],
   "source": [
    "# python/pandas preamble\n",
    "import matplotlib.pyplot as plt\n",
    "%matplotlib inline\n",
    "import numpy as np\n",
    "import pandas as pd\n",
    "import zipfile, os\n",
    "\n",
    "# different sets contain input files that are formatted similarly\n",
    "set1_dir = './sources/set1/'\n",
    "set2_dir = './sources/set2/'\n",
    "set3_dir = './sources/set3/'\n",
    "set4_dir = './sources/set4/'\n",
    "datadir = './sources/'\n",
    "outdir = './out/'"
   ]
  },
  {
   "cell_type": "markdown",
   "metadata": {},
   "source": [
    "# Get list of Fracked wells \n",
    "\n",
    "## ...from FracFocus\n",
    "Less than ideal to get a list of fracked wells from FracFocus.  It will have to do for now...\n"
   ]
  },
  {
   "cell_type": "code",
   "execution_count": null,
   "metadata": {},
   "outputs": [],
   "source": [
    "pkl = 'c:/MyDocs/sandbox/data/O&G/fracfocus/out/currentData/well.pkl'\n",
    "well = pd.read_pickle(pkl)\n",
    "well.info()\n",
    "ffwvapi = list(well[well.StateNumber==47].API10.unique())"
   ]
  },
  {
   "cell_type": "markdown",
   "metadata": {},
   "source": [
    "## ... from WV production"
   ]
  },
  {
   "cell_type": "markdown",
   "metadata": {},
   "source": [
    "### 2018\n",
    "This is supposed to have only H6A Horizontal wells. So all API are valid."
   ]
  },
  {
   "cell_type": "code",
   "execution_count": null,
   "metadata": {},
   "outputs": [],
   "source": [
    "wvapi = []\n",
    "klst = ['API '] \n",
    "flst = os.listdir(set4_dir)\n",
    "for zfn in flst:\n",
    "    with zipfile.ZipFile(set4_dir+zfn) as z:\n",
    "        for fn in z.namelist():\n",
    "            with z.open(fn) as f:\n",
    "                print(f' -- processing {fn}')\n",
    "                t = pd.read_excel(f,usecols=klst) # read the file\n",
    "                #print(t.columns)\n",
    "                t.columns = ['API']\n",
    "                t.API = t.API.astype('str').str[0:10]\n",
    "            for a in list(t.API):\n",
    "                wvapi.append(a)\n",
    "                \n",
    "len(set(wvapi))"
   ]
  },
  {
   "cell_type": "markdown",
   "metadata": {},
   "source": [
    "### 2016-2017\n",
    "Use the API that are flagged as Horizontal of some kind."
   ]
  },
  {
   "cell_type": "code",
   "execution_count": null,
   "metadata": {},
   "outputs": [],
   "source": [
    "klst = ['API','Horizontal Well Indicator ']\n",
    "flst = os.listdir(set2_dir)\n",
    "dlst = []\n",
    "for zfn in flst:\n",
    "    with zipfile.ZipFile(set2_dir+zfn) as z:\n",
    "        for fn in z.namelist():\n",
    "            with z.open(fn) as f:\n",
    "                print(f' -- processing {fn}')\n",
    "                t = pd.read_excel(f,skiprows=3,usecols=klst) # read the file\n",
    "                t.columns = ['API','Hwell']\n",
    "                t.API = t.API.astype('str').str[0:10]\n",
    "                t = t[t.Hwell.str[0]== 'H']\n",
    "                print(len(t))\n",
    "            for a in list(t.API):\n",
    "                wvapi.append(a)\n",
    "\n",
    "wvapi = list(set(wvapi))\n",
    "print(f'Len of Horiz. well list: {len(wvapi)}')"
   ]
  },
  {
   "cell_type": "markdown",
   "metadata": {},
   "source": [
    "# Metadata from WVGES"
   ]
  },
  {
   "cell_type": "markdown",
   "metadata": {},
   "source": [
    "See website <http://www.wvgs.wvnet.edu/www/datastat/devshales.htm>  for lots of resources.  This includes\n",
    "an excel sheet with lots of metadata on each unconventional well. We use that here to filter out conventional wells and for lat/lon, etc.\n",
    "\n",
    "**Note that the original file is in read-only lock.  You must make an explicit copy within Excel to successfully read in these data.**"
   ]
  },
  {
   "cell_type": "code",
   "execution_count": 2,
   "metadata": {},
   "outputs": [],
   "source": [
    "meta = pd.read_excel(datadir+'Copy of WVGES Marcellus Wells.xlsx',sheet_name='WV Marcellus Prod',\n",
    "                    skiprows=1)\n",
    "# meta = pd.read_excel(datadir+'WellLocation(08-22-2016).xlsx',engine='xlrd',sheet_name=0)"
   ]
  },
  {
   "cell_type": "code",
   "execution_count": 3,
   "metadata": {},
   "outputs": [],
   "source": [
    "meta.head()\n",
    "meta.API = meta.API.astype('str').str[:10]\n",
    "wvapi = list(meta.API.unique())\n",
    "# wvapi"
   ]
  },
  {
   "cell_type": "markdown",
   "metadata": {},
   "source": [
    "# Set 1 - 2007-2011 and 2013-2015"
   ]
  },
  {
   "cell_type": "code",
   "execution_count": 4,
   "metadata": {},
   "outputs": [
    {
     "name": "stdout",
     "output_type": "stream",
     "text": [
      " -- processing 2007Production.xls\n",
      " -- processing 2008Production.xls\n",
      " -- processing 2009Production.xls\n",
      " -- processing 2010Production.xls\n",
      " -- processing 2011Production.xls\n",
      " -- processing 2013 production 08-25-2016.xlsx\n",
      " -- processing 2014 WV Production Data Update 04-29-2016.xlsx\n",
      " -- processing 2015 West Virginia Production 08-23-2016.xlsx\n"
     ]
    }
   ],
   "source": [
    "# def change_name(row,yr):\n",
    "#     xlate = {'GAS_PRODUCTION_':'Gas_','OIL_PRODUCTION_':'Oil_','LNG_PROD_':'LNG_','NGL_PROD_':'LNG_'}\n",
    "#     mon = {'JANUARY':'01', 'FEBRUARY':'02', 'MARCH':'03', 'APRIL':'04', 'MAY':'05', 'JUNE':'06',\n",
    "#            'JULY':'07', 'AUGUST':'08', 'SEPTEMBER':'09', 'OCTOBER':'10', 'NOVEMBER':'11', 'DECEMBER':'12',\n",
    "#            'JAN':'01', 'FEB':'02', 'MAR':'03', 'APR':'04', 'MAY':'05', 'JUN':'06',\n",
    "#            'JUL':'07', 'AUG':'08', 'SEP':'09', 'OCT':'10', 'NOV':'11', 'DEC':'12'}\n",
    "\n",
    "klst = ['YEAR', 'API', 'GAS_PRODUCTION_JANUARY',\n",
    "       'GAS_PRODUCTION_FEBRUARY', 'GAS_PRODUCTION_MARCH',\n",
    "       'GAS_PRODUCTION_APRIL', 'GAS_PRODUCTION_MAY', 'GAS_PRODUCTION_JUNE',\n",
    "       'GAS_PRODUCTION_JULY', 'GAS_PRODUCTION_AUGUST',\n",
    "       'GAS_PRODUCTION_SEPTEMBER', 'GAS_PRODUCTION_OCTOBER',\n",
    "       'GAS_PRODUCTION_NOVEMBER', 'GAS_PRODUCTION_DECEMBER',\n",
    "       'OIL_PRODUCTION_JANUARY',\n",
    "       'OIL_PRODUCTION_FEBRUARY', 'OIL_PRODUCTION_MARCH',\n",
    "       'OIL_PRODUCTION_APRIL', 'OIL_PRODUCTION_MAY', 'OIL_PRODUCTION_JUNE',\n",
    "       'OIL_PRODUCTION_JULY', 'OIL_PRODUCTION_AUGUST',\n",
    "       'OIL_PRODUCTION_SEPTEMBER', 'OIL_PRODUCTION_OCTOBER',\n",
    "       'OIL_PRODUCTION_NOVEMBER', 'OIL_PRODUCTION_DECEMBER']\n",
    "#klst = [1,2,3]\n",
    "flst = os.listdir(set1_dir)\n",
    "dlst = []\n",
    "for zfn in flst:\n",
    "    with zipfile.ZipFile(set1_dir+zfn) as z:\n",
    "        for fn in z.namelist():\n",
    "            with z.open(fn) as f:\n",
    "                print(f' -- processing {fn}')\n",
    "                t = pd.read_excel(f,usecols=klst) # read the file\n",
    "                #print(t.columns)\n",
    "                yr = int(t.YEAR.mean())\n",
    "                t.columns = ['Year','API',f'Gas_{yr}M01',f'Gas_{yr}M02',f'Gas_{yr}M03',\n",
    "                            f'Gas_{yr}M04',f'Gas_{yr}M05',f'Gas_{yr}M06',f'Gas_{yr}M07',f'Gas_{yr}M08',\n",
    "                            f'Gas_{yr}M09',f'Gas_{yr}M10',f'Gas_{yr}M11',f'Gas_{yr}M12',\n",
    "                            f'Oil_{yr}M01',f'Oil_{yr}M02',f'Oil_{yr}M03',\n",
    "                            f'Oil_{yr}M04',f'Oil_{yr}M05',f'Oil_{yr}M06',f'Oil_{yr}M07',f'Oil_{yr}M08',\n",
    "                            f'Oil_{yr}M09',f'Oil_{yr}M10',f'Oil_{yr}M11',f'Oil_{yr}M12']\n",
    "                t.API = t.API+4700000000\n",
    "                t.API = t.API.astype('str').str[0:10]\n",
    "                t = t[t.API.isin(wvapi)]\n",
    "                t = t.drop(['Year'],axis=1)\n",
    "                m = pd.melt(t,id_vars='API')\n",
    "                dlst.append(m)\n",
    "\n",
    "set1_df = pd.concat(dlst,sort=True)\n",
    "\n"
   ]
  },
  {
   "cell_type": "code",
   "execution_count": 5,
   "metadata": {},
   "outputs": [
    {
     "data": {
      "text/plain": [
       "array(['4700502175', '4700702494', '4701705592', '4702300023',\n",
       "       '4703305448', '4703305590', '4703502725', '4703502763',\n",
       "       '4703905967', '4704105231', '4704303377', '4704303378',\n",
       "       '4704303379', '4704303380', '4704303381', '4704303382',\n",
       "       '4704303387', '4704303388', '4704303390', '4704303391',\n",
       "       '4704303405', '4704303407', '4704502024', '4704502037',\n",
       "       '4704502038', '4704502104', '4704502119', '4704502123',\n",
       "       '4704502135', '4704502137', '4704901900', '4704902038',\n",
       "       '4705101093', '4705300437', '4705901202', '4705901804',\n",
       "       '4705901805', '4705901836', '4705901863', '4705901866',\n",
       "       '4705901931', '4705901947', '4705901952', '4705901957',\n",
       "       '4707700173', '4707901476', '4708301143', '4708301211',\n",
       "       '4708506359', '4708509333', '4708509571', '4708509990',\n",
       "       '4708704509', '4708704518', '4708704582', '4708704601',\n",
       "       '4708704602', '4709101210', '4709101220', '4709101290',\n",
       "       '4709703503', '4709703515', '4709703516', '4709703527',\n",
       "       '4710302334', '4710302403', '4710302432', '4710302476',\n",
       "       '4710302511', '4710302552', '4710302587', '4710302680',\n",
       "       '4710302681', '4710302704', '4710302705', '4710302706',\n",
       "       '4710302707', '4710302708', '4710302720', '4710302721',\n",
       "       '4710302722', '4710302723', '4710902958'], dtype=object)"
      ]
     },
     "execution_count": 5,
     "metadata": {},
     "output_type": "execute_result"
    }
   ],
   "source": [
    "dup = pd.concat(g for _, g in set1_df.groupby([\"API\",\"variable\"]) if len(g) > 1)\n",
    "dup.API.unique()\n",
    "# quite a few duplicates"
   ]
  },
  {
   "cell_type": "code",
   "execution_count": 6,
   "metadata": {},
   "outputs": [
    {
     "name": "stdout",
     "output_type": "stream",
     "text": [
      "<class 'pandas.core.frame.DataFrame'>\n",
      "Int64Index: 357504 entries, 0 to 73175\n",
      "Data columns (total 3 columns):\n",
      "API         357504 non-null object\n",
      "value       357504 non-null float64\n",
      "variable    357504 non-null object\n",
      "dtypes: float64(1), object(2)\n",
      "memory usage: 10.9+ MB\n"
     ]
    }
   ],
   "source": [
    "set1_df.info()"
   ]
  },
  {
   "cell_type": "markdown",
   "metadata": {},
   "source": [
    "# Set 2: 2016-17"
   ]
  },
  {
   "cell_type": "code",
   "execution_count": 5,
   "metadata": {},
   "outputs": [
    {
     "name": "stdout",
     "output_type": "stream",
     "text": [
      " -- processing 2016 West Virginia Production Data 11-13-2017.xlsx\n",
      " -- processing 2017 West Virginia Production Totals 06-06-2018.xlsx\n"
     ]
    }
   ],
   "source": [
    "klst = ['Year ', 'API',    # in the 2016 file, there's an extra space at the end of five col names \n",
    "        'Gas_January',\n",
    "       'Gas_Feburary ', 'Gas_March ',  # February is misspelled\n",
    "       'Gas_April', 'Gas_May', 'Gas_June',\n",
    "       'Gas_July', 'Gas_August',\n",
    "       'Gas_September', 'Gas_October',\n",
    "       'Gas_November', 'Gas_December',\n",
    "       'Oil_January',\n",
    "       'Oil_Feburary ', 'Oil_March ',\n",
    "       'Oil_April', 'Oil_May', 'Oil_June',\n",
    "       'Oil_July', 'Oil_August',\n",
    "       'Oil_September', 'Oil_October',\n",
    "       'Oil_November', 'Oil_December']\n",
    "#klst = [1,2,3]\n",
    "flst = os.listdir(set2_dir)\n",
    "dlst = []\n",
    "for zfn in flst:\n",
    "    with zipfile.ZipFile(set2_dir+zfn) as z:\n",
    "        for fn in z.namelist():\n",
    "            with z.open(fn) as f:\n",
    "                print(f' -- processing {fn}')\n",
    "                t = pd.read_excel(f,skiprows=3,usecols=klst) # read the file\n",
    "                #print(t.columns)\n",
    "                yr = int(t['Year '].mean())\n",
    "                t.columns = ['Year','API',f'Gas_{yr}M01',f'Gas_{yr}M02',f'Gas_{yr}M03',\n",
    "                            f'Gas_{yr}M04',f'Gas_{yr}M05',f'Gas_{yr}M06',f'Gas_{yr}M07',f'Gas_{yr}M08',\n",
    "                            f'Gas_{yr}M09',f'Gas_{yr}M10',f'Gas_{yr}M11',f'Gas_{yr}M12',\n",
    "                            f'Oil_{yr}M01',f'Oil_{yr}M02',f'Oil_{yr}M03',\n",
    "                            f'Oil_{yr}M04',f'Oil_{yr}M05',f'Oil_{yr}M06',f'Oil_{yr}M07',f'Oil_{yr}M08',\n",
    "                            f'Oil_{yr}M09',f'Oil_{yr}M10',f'Oil_{yr}M11',f'Oil_{yr}M12']\n",
    "                t.API = t.API.astype('str').str[0:10]\n",
    "                t = t[t.API.isin(wvapi)]\n",
    "                t = t.drop(['Year'],axis=1)\n",
    "                m = pd.melt(t,id_vars='API')\n",
    "                dlst.append(m)\n",
    "\n",
    "set2_df = pd.concat(dlst,sort=True)\n"
   ]
  },
  {
   "cell_type": "code",
   "execution_count": 15,
   "metadata": {},
   "outputs": [],
   "source": [
    "# dup = pd.concat(g for _, g in set2_df.groupby([\"API\",\"variable\"]) if len(g) > 1)\n",
    "# dup.API.unique()"
   ]
  },
  {
   "cell_type": "markdown",
   "metadata": {},
   "source": [
    "# Set 3 - 2012 (an odd file)"
   ]
  },
  {
   "cell_type": "code",
   "execution_count": 6,
   "metadata": {},
   "outputs": [
    {
     "name": "stdout",
     "output_type": "stream",
     "text": [
      " -- processing Production2012.xlsx\n"
     ]
    }
   ],
   "source": [
    "klst = ['PRODUCTION_YEAR', 'WELL_API', 'GAS_PRODUCTION_JANUARY',\n",
    "       'GAS_PRODUCTION_FEBRUARY', 'GAS_PRODUCTION_MARCH',\n",
    "       'GAS_PRODUCTION_APRIL', 'GAS_PRODUCTION_MAY', 'GAS_PRODUCTION_JUNE',\n",
    "       'GAS_PRODUCTION_JULY', 'GAS_PRODUCTION_AUGUST',\n",
    "       'GAS_PRODUCTION_SEPTEMBER', 'GAS_PRODUCTION_OCTOBER',\n",
    "       'GAS_PRODUCTION_NOVEMBER', 'GAS_PRODUCTION_DECEMBER',\n",
    "       'OIL_PRODUCTION_JANUARY',\n",
    "       'OIL_PRODUCTION_FEBRUARY', 'OIL_PRODUCTION_MARCH',\n",
    "       'OIL_PRODUCTION_APRIL', 'OIL_PRODUCTION_MAY', 'OIL_PRODUCTION_JUNE',\n",
    "       'OIL_PRODUCTION_JULY', 'OIL_PRODUCTION_AUGUST',\n",
    "       'OIL_PRODUCTION_SEPTEMBER', 'OIL_PRODUCTION_OCTOBER',\n",
    "       'OIL_PRODUCTION_NOVEMBER', 'OIL_PRODUCTION_DECEMBER']\n",
    "#klst = [1,2,3]\n",
    "flst = os.listdir(set3_dir)\n",
    "dlst = []\n",
    "for zfn in flst:\n",
    "    with zipfile.ZipFile(set3_dir+zfn) as z:\n",
    "        for fn in z.namelist():\n",
    "            with z.open(fn) as f:\n",
    "                print(f' -- processing {fn}')\n",
    "                t = pd.read_excel(f,usecols=klst) # read the file\n",
    "                #print(t.columns)\n",
    "                yr = int(t.PRODUCTION_YEAR.mean())\n",
    "                t.columns = ['Year','API',f'Gas_{yr}M01',f'Gas_{yr}M02',f'Gas_{yr}M03',\n",
    "                            f'Gas_{yr}M04',f'Gas_{yr}M05',f'Gas_{yr}M06',f'Gas_{yr}M07',f'Gas_{yr}M08',\n",
    "                            f'Gas_{yr}M09',f'Gas_{yr}M10',f'Gas_{yr}M11',f'Gas_{yr}M12',\n",
    "                            f'Oil_{yr}M01',f'Oil_{yr}M02',f'Oil_{yr}M03',\n",
    "                            f'Oil_{yr}M04',f'Oil_{yr}M05',f'Oil_{yr}M06',f'Oil_{yr}M07',f'Oil_{yr}M08',\n",
    "                            f'Oil_{yr}M09',f'Oil_{yr}M10',f'Oil_{yr}M11',f'Oil_{yr}M12']\n",
    "                t.API = t.API.str.replace('-','')  # drop the dashes; already a 10 digit string\n",
    "                t = t[t.API.isin(wvapi)]\n",
    "                t = t.drop(['Year'],axis=1)\n",
    "                m = pd.melt(t,id_vars='API')\n",
    "                dlst.append(m)\n",
    "\n",
    "set3_df = pd.concat(dlst,sort=True)\n",
    "\n"
   ]
  },
  {
   "cell_type": "code",
   "execution_count": 17,
   "metadata": {},
   "outputs": [
    {
     "data": {
      "text/plain": [
       "array(['4701304145', '4701304623', '4701304624', '4701705402',\n",
       "       '4703305448', '4704502024', '4704502104', '4704502119',\n",
       "       '4708506359', '4708509348', '4708704601', '4708704602'],\n",
       "      dtype=object)"
      ]
     },
     "execution_count": 17,
     "metadata": {},
     "output_type": "execute_result"
    }
   ],
   "source": [
    "dup = pd.concat(g for _, g in set3_df.groupby([\"API\",\"variable\"]) if len(g) > 1)\n",
    "dup.API.unique()"
   ]
  },
  {
   "cell_type": "markdown",
   "metadata": {},
   "source": [
    "# Set 4 - 2018"
   ]
  },
  {
   "cell_type": "code",
   "execution_count": 7,
   "metadata": {},
   "outputs": [
    {
     "name": "stdout",
     "output_type": "stream",
     "text": [
      " -- processing 2018 Q3 WV Production Horizontal H6A Wells .xlsx\n"
     ]
    }
   ],
   "source": [
    "klst = ['Year', 'API ', \n",
    "        'Jan_Gas', 'Feb_Gas', 'Mar_Gas', 'Apr_Gas', 'May_Gas', 'Jun_Gas',\n",
    "        'Jul_Gas', 'Aug_Gas', 'Sep_Gas', 'Oct_Gas', 'Nov_Gas', 'Dec_Gas',\n",
    "        'Jan_Oil', 'Feb_Oil', 'Mar_Oil', 'Apr_Oil', 'May_Oil', 'Jun_Oil',\n",
    "        'Jul_Oil', 'Aug_Oil', 'Sep_Oil', 'Oct_Oil', 'Nov_Oil', 'Dec_Oil']\n",
    "flst = os.listdir(set4_dir)\n",
    "dlst = []\n",
    "for zfn in flst:\n",
    "    with zipfile.ZipFile(set4_dir+zfn) as z:\n",
    "        for fn in z.namelist():\n",
    "            with z.open(fn) as f:\n",
    "                print(f' -- processing {fn}')\n",
    "                t = pd.read_excel(f,usecols=klst) # read the file\n",
    "                #print(t.columns)\n",
    "                yr = int(t['Year'].mean())\n",
    "                t.columns = ['Year','API',f'Gas_{yr}M01',f'Gas_{yr}M02',f'Gas_{yr}M03',\n",
    "                            f'Gas_{yr}M04',f'Gas_{yr}M05',f'Gas_{yr}M06',f'Gas_{yr}M07',f'Gas_{yr}M08',\n",
    "                            f'Gas_{yr}M09',f'Gas_{yr}M10',f'Gas_{yr}M11',f'Gas_{yr}M12',\n",
    "                            f'Oil_{yr}M01',f'Oil_{yr}M02',f'Oil_{yr}M03',\n",
    "                            f'Oil_{yr}M04',f'Oil_{yr}M05',f'Oil_{yr}M06',f'Oil_{yr}M07',f'Oil_{yr}M08',\n",
    "                            f'Oil_{yr}M09',f'Oil_{yr}M10',f'Oil_{yr}M11',f'Oil_{yr}M12']\n",
    "                t.API = t.API.astype('str').str[0:10]\n",
    "                t = t[t.API.isin(wvapi)]\n",
    "                t = t.drop(['Year'],axis=1)\n",
    "                m = pd.melt(t,id_vars='API')\n",
    "                dlst.append(m)\n",
    "\n",
    "set4_df = pd.concat(dlst,sort=True)\n"
   ]
  },
  {
   "cell_type": "code",
   "execution_count": 19,
   "metadata": {
    "scrolled": true
   },
   "outputs": [],
   "source": [
    "# dup = pd.concat(g for _, g in set4_df.groupby([\"API\",\"variable\"]) if len(g) > 1)\n",
    "# dup.API.unique()"
   ]
  },
  {
   "cell_type": "code",
   "execution_count": 8,
   "metadata": {},
   "outputs": [
    {
     "name": "stdout",
     "output_type": "stream",
     "text": [
      "Records = 602232 and 3684 unique wells\n",
      "<class 'pandas.core.frame.DataFrame'>\n",
      "RangeIndex: 602232 entries, 0 to 602231\n",
      "Data columns (total 3 columns):\n",
      "API         602232 non-null object\n",
      "variable    602232 non-null object\n",
      "value       537738 non-null float64\n",
      "dtypes: float64(1), object(2)\n",
      "memory usage: 13.8+ MB\n"
     ]
    }
   ],
   "source": [
    "whole = pd.concat([set1_df,set2_df,set3_df,set4_df,],sort=True)\n",
    "set1_df.head()\n",
    "# in the years before 2016, there are occasionally wells with duplicate records, often with one\n",
    "# of them having '0' as quantity, so we will take the max of the duplcates.\n",
    "whole = whole.groupby(['API','variable'],as_index=False).max()\n",
    "print(f'Records = {len(whole)} and {len(whole.API.unique())} unique wells')\n",
    "whole.info()\n",
    "whole.to_pickle(outdir+'ver1.pkl')"
   ]
  },
  {
   "cell_type": "markdown",
   "metadata": {},
   "source": [
    "## Compare these numbers to those in the WVGES dataset"
   ]
  },
  {
   "cell_type": "code",
   "execution_count": 12,
   "metadata": {},
   "outputs": [
    {
     "data": {
      "text/html": [
       "<div>\n",
       "<style scoped>\n",
       "    .dataframe tbody tr th:only-of-type {\n",
       "        vertical-align: middle;\n",
       "    }\n",
       "\n",
       "    .dataframe tbody tr th {\n",
       "        vertical-align: top;\n",
       "    }\n",
       "\n",
       "    .dataframe thead th {\n",
       "        text-align: right;\n",
       "    }\n",
       "</style>\n",
       "<table border=\"1\" class=\"dataframe\">\n",
       "  <thead>\n",
       "    <tr style=\"text-align: right;\">\n",
       "      <th></th>\n",
       "      <th>API</th>\n",
       "      <th>variable</th>\n",
       "      <th>value</th>\n",
       "      <th>typ1</th>\n",
       "      <th>year1</th>\n",
       "      <th>month1</th>\n",
       "    </tr>\n",
       "  </thead>\n",
       "  <tbody>\n",
       "    <tr>\n",
       "      <th>0</th>\n",
       "      <td>4700102885</td>\n",
       "      <td>Gas_2008M01</td>\n",
       "      <td>0.0</td>\n",
       "      <td>Gas</td>\n",
       "      <td>2008</td>\n",
       "      <td>1</td>\n",
       "    </tr>\n",
       "    <tr>\n",
       "      <th>1</th>\n",
       "      <td>4700102885</td>\n",
       "      <td>Gas_2008M02</td>\n",
       "      <td>0.0</td>\n",
       "      <td>Gas</td>\n",
       "      <td>2008</td>\n",
       "      <td>2</td>\n",
       "    </tr>\n",
       "    <tr>\n",
       "      <th>2</th>\n",
       "      <td>4700102885</td>\n",
       "      <td>Gas_2008M03</td>\n",
       "      <td>956.0</td>\n",
       "      <td>Gas</td>\n",
       "      <td>2008</td>\n",
       "      <td>3</td>\n",
       "    </tr>\n",
       "    <tr>\n",
       "      <th>3</th>\n",
       "      <td>4700102885</td>\n",
       "      <td>Gas_2008M04</td>\n",
       "      <td>1082.0</td>\n",
       "      <td>Gas</td>\n",
       "      <td>2008</td>\n",
       "      <td>4</td>\n",
       "    </tr>\n",
       "    <tr>\n",
       "      <th>4</th>\n",
       "      <td>4700102885</td>\n",
       "      <td>Gas_2008M05</td>\n",
       "      <td>1397.0</td>\n",
       "      <td>Gas</td>\n",
       "      <td>2008</td>\n",
       "      <td>5</td>\n",
       "    </tr>\n",
       "  </tbody>\n",
       "</table>\n",
       "</div>"
      ],
      "text/plain": [
       "          API     variable   value typ1  year1  month1\n",
       "0  4700102885  Gas_2008M01     0.0  Gas   2008       1\n",
       "1  4700102885  Gas_2008M02     0.0  Gas   2008       2\n",
       "2  4700102885  Gas_2008M03   956.0  Gas   2008       3\n",
       "3  4700102885  Gas_2008M04  1082.0  Gas   2008       4\n",
       "4  4700102885  Gas_2008M05  1397.0  Gas   2008       5"
      ]
     },
     "execution_count": 12,
     "metadata": {},
     "output_type": "execute_result"
    }
   ],
   "source": [
    "whole['typ1'] = whole.variable.str[:3]\n",
    "whole['year1'] = whole.variable.str[4:8].astype('int64')\n",
    "whole['month1'] = whole.variable.str[-2:].astype('int64')\n",
    "whole.head()"
   ]
  },
  {
   "cell_type": "code",
   "execution_count": 22,
   "metadata": {},
   "outputs": [
    {
     "data": {
      "text/html": [
       "<div>\n",
       "<style scoped>\n",
       "    .dataframe tbody tr th:only-of-type {\n",
       "        vertical-align: middle;\n",
       "    }\n",
       "\n",
       "    .dataframe tbody tr th {\n",
       "        vertical-align: top;\n",
       "    }\n",
       "\n",
       "    .dataframe thead th {\n",
       "        text-align: right;\n",
       "    }\n",
       "</style>\n",
       "<table border=\"1\" class=\"dataframe\">\n",
       "  <thead>\n",
       "    <tr style=\"text-align: right;\">\n",
       "      <th></th>\n",
       "      <th>API</th>\n",
       "      <th>variable1</th>\n",
       "      <th>value1</th>\n",
       "      <th>typ</th>\n",
       "      <th>YEAR</th>\n",
       "      <th>month</th>\n",
       "    </tr>\n",
       "  </thead>\n",
       "  <tbody>\n",
       "    <tr>\n",
       "      <th>0</th>\n",
       "      <td>4700102885</td>\n",
       "      <td>Gas_2008M01</td>\n",
       "      <td>0.0</td>\n",
       "      <td>GAS</td>\n",
       "      <td>2008</td>\n",
       "      <td>1</td>\n",
       "    </tr>\n",
       "    <tr>\n",
       "      <th>1</th>\n",
       "      <td>4700102885</td>\n",
       "      <td>Gas_2008M02</td>\n",
       "      <td>0.0</td>\n",
       "      <td>GAS</td>\n",
       "      <td>2008</td>\n",
       "      <td>2</td>\n",
       "    </tr>\n",
       "    <tr>\n",
       "      <th>2</th>\n",
       "      <td>4700102885</td>\n",
       "      <td>Gas_2008M03</td>\n",
       "      <td>956.0</td>\n",
       "      <td>GAS</td>\n",
       "      <td>2008</td>\n",
       "      <td>3</td>\n",
       "    </tr>\n",
       "    <tr>\n",
       "      <th>3</th>\n",
       "      <td>4700102885</td>\n",
       "      <td>Gas_2008M04</td>\n",
       "      <td>1082.0</td>\n",
       "      <td>GAS</td>\n",
       "      <td>2008</td>\n",
       "      <td>4</td>\n",
       "    </tr>\n",
       "    <tr>\n",
       "      <th>4</th>\n",
       "      <td>4700102885</td>\n",
       "      <td>Gas_2008M05</td>\n",
       "      <td>1397.0</td>\n",
       "      <td>GAS</td>\n",
       "      <td>2008</td>\n",
       "      <td>5</td>\n",
       "    </tr>\n",
       "  </tbody>\n",
       "</table>\n",
       "</div>"
      ],
      "text/plain": [
       "          API    variable1  value1  typ  YEAR  month\n",
       "0  4700102885  Gas_2008M01     0.0  GAS  2008      1\n",
       "1  4700102885  Gas_2008M02     0.0  GAS  2008      2\n",
       "2  4700102885  Gas_2008M03   956.0  GAS  2008      3\n",
       "3  4700102885  Gas_2008M04  1082.0  GAS  2008      4\n",
       "4  4700102885  Gas_2008M05  1397.0  GAS  2008      5"
      ]
     },
     "execution_count": 22,
     "metadata": {},
     "output_type": "execute_result"
    }
   ],
   "source": [
    "whole.columns = ['API', 'variable1', 'value1', 'typ', 'YEAR', 'month']\n",
    "whole.typ = whole.typ.str.upper()\n",
    "whole.head()"
   ]
  },
  {
   "cell_type": "code",
   "execution_count": 28,
   "metadata": {},
   "outputs": [
    {
     "name": "stdout",
     "output_type": "stream",
     "text": [
      "<class 'pandas.core.frame.DataFrame'>\n",
      "Int64Index: 855492 entries, 0 to 855491\n",
      "Data columns (total 7 columns):\n",
      "API         855492 non-null object\n",
      "YEAR        855492 non-null int64\n",
      "variable    855492 non-null object\n",
      "value       632650 non-null float64\n",
      "typ         855492 non-null object\n",
      "yrmo        855492 non-null object\n",
      "month       855492 non-null int64\n",
      "dtypes: float64(1), int64(2), object(4)\n",
      "memory usage: 52.2+ MB\n"
     ]
    }
   ],
   "source": [
    "ver2 = pd.read_pickle(outdir+'ver2.pkl')\n",
    "ver2['month'] = ver2.yrmo.str[-2:].astype('int64')\n",
    "ver2.API = ver2.API.astype('str').str[:10]\n",
    "ver2.head()\n",
    "ver2.info()"
   ]
  },
  {
   "cell_type": "code",
   "execution_count": 29,
   "metadata": {},
   "outputs": [
    {
     "data": {
      "text/html": [
       "<div>\n",
       "<style scoped>\n",
       "    .dataframe tbody tr th:only-of-type {\n",
       "        vertical-align: middle;\n",
       "    }\n",
       "\n",
       "    .dataframe tbody tr th {\n",
       "        vertical-align: top;\n",
       "    }\n",
       "\n",
       "    .dataframe thead th {\n",
       "        text-align: right;\n",
       "    }\n",
       "</style>\n",
       "<table border=\"1\" class=\"dataframe\">\n",
       "  <thead>\n",
       "    <tr style=\"text-align: right;\">\n",
       "      <th></th>\n",
       "      <th>API</th>\n",
       "      <th>variable1</th>\n",
       "      <th>value1</th>\n",
       "      <th>typ</th>\n",
       "      <th>YEAR</th>\n",
       "      <th>month</th>\n",
       "      <th>variable</th>\n",
       "      <th>value</th>\n",
       "      <th>yrmo</th>\n",
       "    </tr>\n",
       "  </thead>\n",
       "  <tbody>\n",
       "    <tr>\n",
       "      <th>0</th>\n",
       "      <td>4700102885</td>\n",
       "      <td>Gas_2008M01</td>\n",
       "      <td>0.0</td>\n",
       "      <td>GAS</td>\n",
       "      <td>2008</td>\n",
       "      <td>1</td>\n",
       "      <td>G_JAN</td>\n",
       "      <td>0.0</td>\n",
       "      <td>Y2008M01</td>\n",
       "    </tr>\n",
       "    <tr>\n",
       "      <th>1</th>\n",
       "      <td>4700102885</td>\n",
       "      <td>Gas_2008M02</td>\n",
       "      <td>0.0</td>\n",
       "      <td>GAS</td>\n",
       "      <td>2008</td>\n",
       "      <td>2</td>\n",
       "      <td>G_FEB</td>\n",
       "      <td>0.0</td>\n",
       "      <td>Y2008M02</td>\n",
       "    </tr>\n",
       "    <tr>\n",
       "      <th>2</th>\n",
       "      <td>4700102885</td>\n",
       "      <td>Gas_2008M03</td>\n",
       "      <td>956.0</td>\n",
       "      <td>GAS</td>\n",
       "      <td>2008</td>\n",
       "      <td>3</td>\n",
       "      <td>G_MAR</td>\n",
       "      <td>956.0</td>\n",
       "      <td>Y2008M03</td>\n",
       "    </tr>\n",
       "    <tr>\n",
       "      <th>3</th>\n",
       "      <td>4700102885</td>\n",
       "      <td>Gas_2008M04</td>\n",
       "      <td>1082.0</td>\n",
       "      <td>GAS</td>\n",
       "      <td>2008</td>\n",
       "      <td>4</td>\n",
       "      <td>G_APR</td>\n",
       "      <td>1082.0</td>\n",
       "      <td>Y2008M04</td>\n",
       "    </tr>\n",
       "    <tr>\n",
       "      <th>4</th>\n",
       "      <td>4700102885</td>\n",
       "      <td>Gas_2008M05</td>\n",
       "      <td>1397.0</td>\n",
       "      <td>GAS</td>\n",
       "      <td>2008</td>\n",
       "      <td>5</td>\n",
       "      <td>G_MAY</td>\n",
       "      <td>1397.0</td>\n",
       "      <td>Y2008M05</td>\n",
       "    </tr>\n",
       "  </tbody>\n",
       "</table>\n",
       "</div>"
      ],
      "text/plain": [
       "          API    variable1  value1  typ  YEAR  month variable   value  \\\n",
       "0  4700102885  Gas_2008M01     0.0  GAS  2008      1    G_JAN     0.0   \n",
       "1  4700102885  Gas_2008M02     0.0  GAS  2008      2    G_FEB     0.0   \n",
       "2  4700102885  Gas_2008M03   956.0  GAS  2008      3    G_MAR   956.0   \n",
       "3  4700102885  Gas_2008M04  1082.0  GAS  2008      4    G_APR  1082.0   \n",
       "4  4700102885  Gas_2008M05  1397.0  GAS  2008      5    G_MAY  1397.0   \n",
       "\n",
       "       yrmo  \n",
       "0  Y2008M01  \n",
       "1  Y2008M02  \n",
       "2  Y2008M03  \n",
       "3  Y2008M04  \n",
       "4  Y2008M05  "
      ]
     },
     "execution_count": 29,
     "metadata": {},
     "output_type": "execute_result"
    }
   ],
   "source": [
    "mg = pd.merge(whole,ver2,on=['API','YEAR','month','typ'])\n",
    "mg.head()"
   ]
  },
  {
   "cell_type": "code",
   "execution_count": 32,
   "metadata": {},
   "outputs": [
    {
     "name": "stdout",
     "output_type": "stream",
     "text": [
      "Total rec: 275935, number non-matches: 265\n"
     ]
    }
   ],
   "source": [
    "test = mg[mg.typ=='GAS']\n",
    "res = test.value - test.value1\n",
    "print(f'Total rec: {len(res)}, number non-matches: {len(res[res>0])}')"
   ]
  },
  {
   "cell_type": "code",
   "execution_count": 21,
   "metadata": {},
   "outputs": [],
   "source": [
    "out = whole.pivot(index='API',columns='variable')\n",
    "out.columns = out.columns.get_level_values(1)\n",
    "out.head()\n",
    "out.to_csv(outdir+'temp.csv')"
   ]
  },
  {
   "cell_type": "code",
   "execution_count": null,
   "metadata": {},
   "outputs": [],
   "source": [
    "locat = pd.read_excel(datadir+'WellLocation(08-22-2016).xlsx')"
   ]
  },
  {
   "cell_type": "code",
   "execution_count": null,
   "metadata": {},
   "outputs": [],
   "source": [
    "locat.info()\n",
    "\n"
   ]
  }
 ],
 "metadata": {
  "kernelspec": {
   "display_name": "Python 3",
   "language": "python",
   "name": "python3"
  },
  "language_info": {
   "codemirror_mode": {
    "name": "ipython",
    "version": 3
   },
   "file_extension": ".py",
   "mimetype": "text/x-python",
   "name": "python",
   "nbconvert_exporter": "python",
   "pygments_lexer": "ipython3",
   "version": "3.6.6"
  },
  "toc": {
   "base_numbering": 1,
   "nav_menu": {},
   "number_sections": true,
   "sideBar": true,
   "skip_h1_title": false,
   "title_cell": "Table of Contents",
   "title_sidebar": "Contents",
   "toc_cell": false,
   "toc_position": {},
   "toc_section_display": true,
   "toc_window_display": false
  }
 },
 "nbformat": 4,
 "nbformat_minor": 2
}
